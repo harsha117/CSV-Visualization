{
 "cells": [
  {
   "cell_type": "code",
   "execution_count": null,
   "metadata": {},
   "outputs": [],
   "source": [
    "import csv\n",
    "import matplotlib.pyplot as plt\n",
    "import glob\n",
    "import random\n",
    "\n",
    "x = []\n",
    "y = []\n",
    "dates = []\n",
    "xlegends = []\n",
    "task = 'cql-172.20.0.9.SelectStatement.rmca.notification_data'\n",
    "\n",
    "for csv_file in glob.glob('sample1.csv'):\n",
    "    with open(csv_file, 'r') as f:\n",
    "        data = csv.DictReader(f, delimiter=';')\n",
    "        for row in data:\n",
    "            try:\n",
    "                if row['Task'] == task:\n",
    "                    dates.append(str(row['StartDateTime']))\n",
    "                    x.append(float(row['Max wait (ms)']))\n",
    "                    y.append(float(row['Mean wait (ms)']))\n",
    "            except:\n",
    "                pass\n",
    "xlegends = [i for i in range(1, len(dates)+1)]\n",
    "plt.plot(xlegends, x, 'r')\n",
    "plt.plot(xlegends, y, 'b')\n",
    "plt.xlabel(dates)\n",
    "plt.show()"
   ]
  }
 ],
 "metadata": {
  "kernelspec": {
   "display_name": "Python 3",
   "language": "python",
   "name": "python3"
  },
  "language_info": {
   "codemirror_mode": {
    "name": "ipython",
    "version": 3
   },
   "file_extension": ".py",
   "mimetype": "text/x-python",
   "name": "python",
   "nbconvert_exporter": "python",
   "pygments_lexer": "ipython3",
   "version": "3.7.0"
  }
 },
 "nbformat": 4,
 "nbformat_minor": 2
}
